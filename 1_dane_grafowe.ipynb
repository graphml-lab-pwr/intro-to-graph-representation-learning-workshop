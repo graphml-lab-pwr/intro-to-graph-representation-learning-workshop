{
 "cells": [
  {
   "cell_type": "markdown",
   "id": "d39eb517",
   "metadata": {},
   "source": [
    "# \"Introduction to Graph Representation Learning\"\n",
    "## Szkoła letnia AI-Tech 2023\n",
    "### Autor: Piotr Bielak\n",
    "\n",
    "![Logotypy sponsorów](sponsors.png)"
   ]
  },
  {
   "cell_type": "markdown",
   "id": "34b404cc",
   "metadata": {},
   "source": [
    "Grafy opisują obiekty i relacje między obiektami. Możemy je spotkać w wielu dziedzinach, takich jak analiza mediów społecznościowych (użytkownicy portali i interakcje między nimi), chemii obliczeniowej (cząsteczki jako atomy połączone za pomocą wiązań atomowych) czy astronomii (relacje grawitacyjne między ciałami niebieskimi).\n",
    "\n",
    "Grafy nie muszą koniecznie opisywać danych, które mają bezpośrednio strukturę sieciową. Możemy również zastosować metody przetwarzania grafów do opisu tradycyjnych typów danych, np. dla zbioru obrazów możemy obliczyć ich podobieństwa i jeśli to podobieństwo jest większe niż zadana wartość progowa, to tworzymy między takimi obrazami krawędź; jeśli na obrazie znajduje się kilka obiektów, możemy opisać ich względne położenia za pomocą krawędzi o różnych typach (np. \"X znajduje się z lewej strony Y\", \"X przesłania część Y\" itd.)."
   ]
  },
  {
   "cell_type": "code",
   "execution_count": null,
   "id": "97588fa3",
   "metadata": {},
   "outputs": [],
   "source": [
    "!pip install -r https://raw.githubusercontent.com/graphml-lab-pwr/intro-to-graph-representation-learning-workshop/master/requirements.txt"
   ]
  },
  {
   "cell_type": "markdown",
   "id": "7ae672c5",
   "metadata": {},
   "source": [
    "## 1. Graf\n",
    "\n",
    "$$\\Large\\mathcal{G} = (\\mathcal{V}, \\mathcal{E}, \\mathbf{X}),$$\n",
    "\n",
    "gdzie $\\mathcal{V}$ to zbiór wierzchołków, a $\\mathcal{E} \\in \\mathcal{V} \\times \\mathcal{V}$ to zbiór krawędzi łączących pary wierzchołków. \n",
    "\n",
    "Z każdym wierzchołkiem $u$ skojarzony jest wektor atrybutów $\\mathbf{x}_u \\in \\mathbb{R}^{d}$. Cechy wszystkich wierzchołków są opisane przez macierz $\\mathbf{X} \\in \\mathbb{R}^{|\\mathcal{V}| \\times d}$. Podobnie można zdefiniować atrybuty krawędzi oraz atrybuty całego grafu, przy czym dla uproszczenia przyjmiemy, że tylko wierzchołki posiadają atrybuty.\n",
    "\n",
    "$$\\Large A \\in \\{0, 1\\}^{|\\mathcal{V}| \\times |\\mathcal{V}|}$$\n",
    "\n",
    "W celu opisania połączeń w grafie stosuje się najczęściej (binarną) macierz sąsiedztwa $A \\in \\{0, 1\\}^{|\\mathcal{V}| \\times |\\mathcal{V}|}$, w której: $A_{uv} = 1 \\iff (u, v) \\in \\mathcal{E}$. Macierz ta jest macierzą symetryczną dla grafów nieskierowanych (krawędź nie ma kierunku), natomiast w przypadku grafów skierowanych raczej jest macierzą niesymetryczną.\n",
    "\n",
    "Innym sposobem opisu połączeń jest lista krawędzi. Motywacją do stosowania takiego zapisu jest fakt, że najczęściej graf jest rzadki, tzn. liczba krawędzi jest znacząco mniejsza niż maksymalna liczba możliwych krawędzi -- $|\\mathcal{E}| \\ll |\\mathcal{V}|  \\times |\\mathcal{V}|$."
   ]
  },
  {
   "cell_type": "markdown",
   "id": "e1cb9eab",
   "metadata": {},
   "source": [
    "## 2. Przykłady grafów\n",
    "\n",
    "- **sieci społeczne**\n",
    "- sieci telekomunikacyjne\n",
    "- sieci dróg\n",
    "- **cząsteczki chemiczne**\n",
    "- sieci artykułów naukowych (cytowań)\n",
    "- **systemy rekomendacyjne**\n",
    "- portale zakupowe (e-commerce)\n",
    "- ..."
   ]
  },
  {
   "cell_type": "markdown",
   "id": "6debab72",
   "metadata": {},
   "source": [
    "![](https://i.insider.com/4f5112e169bedd1526000061?width=700&format=jpeg&auto=webp)\n",
    "\n",
    "[Źródło: Business Insider](https://www.businessinsider.com/explainer-what-exactly-is-the-social-graph-2012-3?IR=T)"
   ]
  },
  {
   "cell_type": "markdown",
   "id": "27f9604b",
   "metadata": {},
   "source": [
    "![](https://www.wolfram.com/language/12/molecular-structure-and-computation/assets.en/molecule-graphs/O_84.png) | ![](https://www.wolfram.com/language/12/molecular-structure-and-computation/assets.en/molecule-graphs/O_82.png)\n",
    "- | - \n",
    "[Źródło: Wolfram [1]](https://www.wolfram.com/language/12/molecular-structure-and-computation/assets.en/molecule-graphs/O_84.png) | [Źródło: Wolfram [2]](https://www.wolfram.com/language/12/molecular-structure-and-computation/assets.en/molecule-graphs/O_82.png)"
   ]
  },
  {
   "cell_type": "markdown",
   "id": "16907587",
   "metadata": {},
   "source": [
    "![](https://media.springernature.com/lw685/springer-static/image/art%3A10.1007%2Fs00521-020-05667-z/MediaObjects/521_2020_5667_Fig2_HTML.png)\n",
    "[Źródło: Springer](https://link.springer.com/article/10.1007/s00521-020-05667-z)"
   ]
  },
  {
   "cell_type": "markdown",
   "id": "edf0b1c2",
   "metadata": {},
   "source": [
    "## 3. PyTorch-Geometric\n",
    "\n",
    "Bibliotek wykorzystywanych do uczenia modeli działających na danych grafowych jest wiele, jednak dwie z nich są bardzo często stosowane: **PyTorch-Geometric** (**PyG**; [dokumentacja](https://pytorch-geometric.readthedocs.io/en/latest/)) oraz **Deep Graph Library** (w skrócie DGL; [dokumentacja](https://docs.dgl.ai)). W ramach warsztatów będzie wykorzystywana biblioteka PyTorch-Geometric, jednak zachęcam zainteresowanych do zapoznania się również z DGL.\n",
    "\n",
    "PyG zawiera wiele gotowych do użycia: \n",
    "- zbiorów danych (grafy jednorelacyjne i heterogeniczne, małe i wielkoskalowe, zbiory z wieloma grafami itp.), \n",
    "- warstw stosowanych w grafowych sieciach neuronowych (GNN)\n",
    "- modeli sieci neuronowych do przetwarzania grafów,\n",
    "- funkcji do przetwarzania i przygotowania danych grafowych."
   ]
  },
  {
   "cell_type": "markdown",
   "id": "4bc37938",
   "metadata": {},
   "source": [
    "## 3.1. `Data(...)`\n",
    "\n",
    "Podstawową strukturą danych opisującą grafy w PyG jest obiekt typu `Data(...)`. Opisujemy nim proste grafy homogeniczne (jeden typ wierzchołków i jeden typ krawędzi) w następującej postaci:\n",
    "- atrybuty wierzchołków - tensor `data.x`\n",
    "- listę krawędzi - tensor `data.edge_index` w formacie COO (o wymiarach $2 \\times |\\mathcal{E}|$)\n",
    "- (opcjonalnie) klasy wierzchołków / krawędzi / grafu - tensor `data.y` (wymiar zależny od problemu)\n",
    "- (opcjonalnie) atrybuty krawędzi - tensor `data.edge_attr`\n",
    "- pola zawierające informacje o liczbie krawędzi, liczbie wierzchołków oraz wymiarowościach ich atrybutów,\n",
    "- inne pola, które pomijamy w trakcie tego laboratorium.\n",
    "\n",
    "W przypadku problemów, gdzie działamy na zbiorze składającym się z wielu grafów, każdy z nich jest opisany przez osobny obiekt `Data`. \n",
    "\n",
    "Zacznijmy od załadowania zbioru `Cora`. Jest to zbiór, w którym wierzchołki opisują publikacje naukowe, natomiast krawędzie opisują cytowania między artykułami. Każdy wierzchołek jest opisany przez binarny wektor worka słów użytych w artykule (ang. *binary bag-of-words*). Każdy artykuł / wierzchołek posiada przypisaną klasę. Zbiór ten można zastosować w tzw. problemie klasyfikacji wierzchołków lub problemie predykcji połączeń. Obecnie zbiór nie jest już stosowany do porównywania metod uczenia reprezentacji na grafach, głównie ze względu na wielkość (mały zbiór) oraz wysoką homofilię (podobne wierzchołki są połączone do podobnych wierzchołków)."
   ]
  },
  {
   "cell_type": "code",
   "execution_count": null,
   "id": "0d84b38b",
   "metadata": {},
   "outputs": [],
   "source": [
    "import torch\n",
    "\n",
    "torch.manual_seed(42)"
   ]
  },
  {
   "cell_type": "code",
   "execution_count": null,
   "id": "7140d6ad",
   "metadata": {},
   "outputs": [],
   "source": [
    "from torch_geometric.datasets import Planetoid\n",
    "\n",
    "dataset = Planetoid(root=\"/tmp/Cora/\", name=\"Cora\")\n",
    "\n",
    "print(f\"Liczba grafów: {len(dataset)}\")\n",
    "\n",
    "data = dataset[0]\n",
    "\n",
    "data"
   ]
  },
  {
   "cell_type": "markdown",
   "id": "82d1362b",
   "metadata": {},
   "source": [
    "**Podstawowe statystyki:**"
   ]
  },
  {
   "cell_type": "code",
   "execution_count": null,
   "id": "5e499cd2",
   "metadata": {},
   "outputs": [],
   "source": [
    "print(\"Liczba wierzchołków:\", data.num_nodes)\n",
    "print(\"Liczba krawędzi:\", data.num_edges)\n",
    "print(\"Wymiarowość atrybutów wierzchołków:\", data.num_node_features)\n",
    "print(\"Czy skierowany?\", data.is_directed())\n",
    "print(\"Liczba typów wierzchołków:\", data.num_node_types)\n",
    "print(\"Liczba typów krawędzi:\", data.num_edge_types)"
   ]
  },
  {
   "cell_type": "code",
   "execution_count": null,
   "id": "1808e392",
   "metadata": {},
   "outputs": [],
   "source": [
    "print(\"Liczba klas wierzchołków:\", dataset.num_classes)\n",
    "\n",
    "# Alternatywnie\n",
    "print(\"Liczba klas wierzchołków:\", data.y.unique().shape[0])"
   ]
  },
  {
   "cell_type": "markdown",
   "id": "a65a57eb",
   "metadata": {},
   "source": [
    "**Atrybuty wierzchołków:**"
   ]
  },
  {
   "cell_type": "code",
   "execution_count": null,
   "id": "10baab3a",
   "metadata": {},
   "outputs": [],
   "source": [
    "data.x"
   ]
  },
  {
   "cell_type": "markdown",
   "id": "d15e5ac1",
   "metadata": {},
   "source": [
    "**Macierz sąsiedztwa (rzadka; COO):**"
   ]
  },
  {
   "cell_type": "code",
   "execution_count": null,
   "id": "026d643d",
   "metadata": {},
   "outputs": [],
   "source": [
    "data.edge_index"
   ]
  },
  {
   "cell_type": "markdown",
   "id": "8beb68b8",
   "metadata": {},
   "source": [
    "**Etykiety wierzchołków:**"
   ]
  },
  {
   "cell_type": "code",
   "execution_count": null,
   "id": "d7411843",
   "metadata": {},
   "outputs": [],
   "source": [
    "data.y"
   ]
  },
  {
   "cell_type": "markdown",
   "id": "a0a94d08",
   "metadata": {},
   "source": [
    "**Wizualizacja sieci:**"
   ]
  },
  {
   "cell_type": "code",
   "execution_count": null,
   "id": "2be9ea0c",
   "metadata": {},
   "outputs": [],
   "source": [
    "import networkx as nx\n",
    "import seaborn as sns\n",
    "from torch_geometric.utils import to_networkx\n",
    "\n",
    "\n",
    "nx_graph = to_networkx(data, to_undirected=True)\n",
    "\n",
    "pos = nx.spring_layout(nx_graph)\n",
    "cm = sns.color_palette(n_colors=data.y.unique().shape[0])\n",
    "node_color = [cm[y] for y in data.y]\n",
    "\n",
    "nx.draw(nx_graph, pos=pos, node_size=2, node_color=node_color, width=0.2)"
   ]
  },
  {
   "cell_type": "markdown",
   "id": "82e69d4c",
   "metadata": {},
   "source": [
    "## 3.2. `HeteroData(...)`\n",
    "\n",
    "W przypadku gdy graf posiada wiele typów wierzchołków lub/i wiele typów krawędzi to mówimy o **grafach heterogenicznych**. Takie grafy są opisywane za pomocą obiektów typu `HeteroData(...)`. Każdy typ wierzchołka może mieć przypisane osobne atrybuty (i inne pola), a każdy typ krawędzi posiada co najmniej listę krawędzi (macierz sąsiedztwa; *edge_index*).\n",
    "\n",
    "Przykładowym grafem heterogenicznym jest **IMDB**, który jest zbiorem filmów, reżyserów oraz aktorów. Każdy film jest opisany przez slowa kluczowe w postaci worka słów (*bag-of-words*). Etykietą filmów jest jego gatunek (akcja, komedia, dramat). Krawędzie są zdefiniowane pomiędzy filmem a reżyserem oraz filmem a aktorami (wraz z krawędziami zwrotnymi)."
   ]
  },
  {
   "cell_type": "code",
   "execution_count": null,
   "id": "23f2cf08",
   "metadata": {
    "scrolled": false
   },
   "outputs": [],
   "source": [
    "from torch_geometric.datasets import IMDB\n",
    "\n",
    "hetero_dataset = IMDB(root=\"/tmp/IMDB/\")\n",
    "\n",
    "print(\"Liczba grafów:\", len(hetero_dataset))\n",
    "\n",
    "hetero_data = hetero_dataset[0]\n",
    "\n",
    "hetero_data"
   ]
  },
  {
   "cell_type": "code",
   "execution_count": null,
   "id": "a30805d9",
   "metadata": {},
   "outputs": [],
   "source": [
    "print(\"Czy skierowany?\", hetero_data.is_directed())"
   ]
  },
  {
   "cell_type": "code",
   "execution_count": null,
   "id": "d7310e13",
   "metadata": {},
   "outputs": [],
   "source": [
    "print(\"Łączna liczba wierzchołków:\", hetero_data.num_nodes)\n",
    "print(\"Typy wierzchołków:\", hetero_data.node_types)\n",
    "print(\"Wymiarowość atrybutów wierzchołków:\", hetero_data.num_node_features)"
   ]
  },
  {
   "cell_type": "code",
   "execution_count": null,
   "id": "9c56d2b3",
   "metadata": {
    "scrolled": true
   },
   "outputs": [],
   "source": [
    "print(\"Łączna liczba krawędzi:\", hetero_data.num_edges)\n",
    "print(\"Typy krawędzi:\", hetero_data.edge_types)"
   ]
  },
  {
   "cell_type": "code",
   "execution_count": null,
   "id": "7b2ff862",
   "metadata": {},
   "outputs": [],
   "source": [
    "# Subsample some movies\n",
    "import torch\n",
    "from torch_geometric.utils import bipartite_subgraph\n",
    "\n",
    "N_movies = 100\n",
    "\n",
    "movies = torch.randperm(hetero_data[\"movie\"].num_nodes)[:N_movies]\n",
    "\n",
    "m_to_d = bipartite_subgraph(\n",
    "    subset=(movies, torch.arange(hetero_data[\"director\"].num_nodes)), \n",
    "    edge_index=hetero_data[\"movie\", \"to\", \"director\"].edge_index,\n",
    ")[0]\n",
    "\n",
    "m_to_a = bipartite_subgraph(\n",
    "    subset=(movies, torch.arange(hetero_data[\"actor\"].num_nodes)), \n",
    "    edge_index=hetero_data[\"movie\", \"to\", \"actor\"].edge_index,\n",
    ")[0]\n",
    "\n",
    "# Convert heterogeneous graph to NetworkX\n",
    "nx_hetero_graph = nx.Graph()\n",
    "\n",
    "movie_nodes = [f\"Movie_{i}\" for i in movies.tolist()]\n",
    "director_nodes = [f\"Director_{i}\" for i in m_to_d[1].tolist()]\n",
    "actor_nodes = [f\"Actor_{i}\" for i in m_to_a[1].tolist()]\n",
    "\n",
    "nx_hetero_graph.add_nodes_from(movie_nodes + director_nodes + actor_nodes)\n",
    "\n",
    "nx_hetero_graph.add_edges_from([\n",
    "    (f\"Movie_{src}\", f\"Director_{dst}\")\n",
    "    for src, dst in m_to_d.t().tolist()\n",
    "])\n",
    "\n",
    "nx_hetero_graph.add_edges_from([\n",
    "    (f\"Movie_{src}\", f\"Actor_{dst}\")\n",
    "    for src, dst in m_to_a.t().tolist()\n",
    "])\n",
    "\n",
    "# Draw the graph\n",
    "pos = nx.spring_layout(nx_hetero_graph)\n",
    "\n",
    "nx.draw_networkx_nodes(\n",
    "    nx_hetero_graph, \n",
    "    pos=pos, \n",
    "    nodelist=movie_nodes, \n",
    "    node_shape=\"s\", \n",
    "    node_size=10,\n",
    "    node_color=[cm[hetero_data[\"movie\"].y[int(node.split(\"_\")[1])]] for node in movie_nodes]\n",
    ")\n",
    "nx.draw_networkx_nodes(\n",
    "    nx_hetero_graph, \n",
    "    pos=pos,\n",
    "    nodelist=director_nodes, \n",
    "    node_shape=\"o\", \n",
    "    node_size=5, \n",
    "    node_color=\"gray\",\n",
    ")\n",
    "nx.draw_networkx_nodes(\n",
    "    nx_hetero_graph, \n",
    "    pos=pos, \n",
    "    nodelist=actor_nodes, \n",
    "    node_shape=\"v\", \n",
    "    node_size=5,\n",
    "    node_color=\"gray\",\n",
    ")\n",
    "nx.draw_networkx_edges(nx_hetero_graph, pos=pos, width=0.2)"
   ]
  },
  {
   "cell_type": "markdown",
   "id": "0e22f45e",
   "metadata": {},
   "source": [
    "## 3.3. Multiple graph dataset\n",
    "\n",
    "W przypadku gdy zbiór składa się z wielu grafów, po wczytaniu zbioru otrzymujemy listę obiektów `Data(...)` lub `HeteroData(...)`. Najczęściej takie zbiory są używane w chemii obliczeniowej, gdzie pojedynczy graf odpowiada jednej cząsteczce. Poniżej przedstawiono zbiór **ENZYMES** składający się z 600 cząsteczek/grafów. Atomy są modelowane jako wierzchołki, a wiązania atomowe jako krawędzie. Celem jest klasyfikacja każdej cząsteczki."
   ]
  },
  {
   "cell_type": "code",
   "execution_count": null,
   "id": "3cc50514",
   "metadata": {},
   "outputs": [],
   "source": [
    "from torch_geometric.datasets import TUDataset\n",
    "\n",
    "\n",
    "multi_dataset = TUDataset(root=\"/tmp/ENZYMES/\", name=\"ENZYMES\", use_node_attr=True)\n",
    "\n",
    "print(\"Liczba grafów:\", len(multi_dataset))\n",
    "\n",
    "\n",
    "print(multi_dataset[0])\n",
    "print(multi_dataset[1])\n",
    "print(multi_dataset[2])"
   ]
  },
  {
   "cell_type": "code",
   "execution_count": null,
   "id": "24b0475f",
   "metadata": {},
   "outputs": [],
   "source": [
    "print(\"Liczba klas grafów:\", multi_dataset.num_classes)"
   ]
  },
  {
   "cell_type": "code",
   "execution_count": null,
   "id": "d78cb8ce",
   "metadata": {},
   "outputs": [],
   "source": [
    "import matplotlib.pyplot as plt\n",
    "\n",
    "N_molecules = 5\n",
    "fig, axs = plt.subplots(ncols=N_molecules, figsize=(15, 5))\n",
    "\n",
    "for idx, ax in zip(\n",
    "    torch.randperm(len(multi_dataset))[:N_molecules].tolist(),\n",
    "    axs,\n",
    "):\n",
    "    molecule = to_networkx(multi_dataset[idx], to_undirected=True)\n",
    "    pos = nx.spring_layout(molecule)\n",
    "    nx.draw(molecule, pos=pos, ax=ax, node_size=20, width=0.2)\n",
    "    ax.set(title=f\"Molecule {idx} (class = {multi_dataset[idx].y.item()})\")"
   ]
  },
  {
   "cell_type": "code",
   "execution_count": null,
   "id": "cd6d36ee",
   "metadata": {},
   "outputs": [],
   "source": []
  }
 ],
 "metadata": {
  "celltoolbar": "Create Assignment",
  "kernelspec": {
   "display_name": "Python 3 (ipykernel)",
   "language": "python",
   "name": "python3"
  },
  "language_info": {
   "codemirror_mode": {
    "name": "ipython",
    "version": 3
   },
   "file_extension": ".py",
   "mimetype": "text/x-python",
   "name": "python",
   "nbconvert_exporter": "python",
   "pygments_lexer": "ipython3",
   "version": "3.10.6"
  }
 },
 "nbformat": 4,
 "nbformat_minor": 5
}
