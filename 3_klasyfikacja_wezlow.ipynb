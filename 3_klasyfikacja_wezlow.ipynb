{
 "cells": [
  {
   "cell_type": "markdown",
   "id": "d39eb517",
   "metadata": {},
   "source": [
    "# \"Introduction to Graph Representation Learning\"\n",
    "## Szkoła letnia AI-Tech 2023\n",
    "### Autor: Piotr Bielak\n",
    "\n",
    "![Logotypy sponsorów](sponsors.png)"
   ]
  },
  {
   "cell_type": "code",
   "execution_count": null,
   "id": "352ab3f2",
   "metadata": {},
   "outputs": [],
   "source": [
    "!pip install -r https://raw.githubusercontent.com/graphml-lab-pwr/intro-to-graph-representation-learning-workshop/master/requirements.txt"
   ]
  },
  {
   "cell_type": "markdown",
   "id": "4af598bd",
   "metadata": {},
   "source": [
    "## 6. Zadania uczenia maszynowego na grafach\n",
    "\n",
    "Wśród najpopularniejszych zadaniach związanych z przetwarzaniem grafów znajdziemy:\n",
    "\n",
    "1. Klasyfikację wierzchołków\n",
    "2. Predykcję krawędzi\n",
    "3. Klasyfikację grafów\n",
    "\n",
    "Zadania te można rozwiązywać w sposób:\n",
    "- nadzorowany (*supervised*) - model GNNowy jest uczony bezpośrednio w zadaniu docelowym\n",
    "- nienadzorowany (*unsupervised*) - model GNNowy jest uczony na innym zadaniu, a otrzymane reprezentacje są ewaluowane w zadaniu docelowym\n",
    "\n",
    "Wykorzystamy podejście nadzorowane, czyli będziemy uczyć modele w sposób end-2-end."
   ]
  },
  {
   "cell_type": "markdown",
   "id": "ffc4ec5b",
   "metadata": {},
   "source": [
    "## 7. Klasyfikacja wierzchołków\n",
    "\n",
    "Zakładamy, że każdy wierzchołek w grafie może zostać skojarzony z pewną klasą – np.:\n",
    "- w sieci społecznej – płeć,\n",
    "- w sieci cytowań – obszar badawczy artykułu,\n",
    "- w cząsteczkach chemicznych – rodzaj atomu. \n",
    "\n",
    "Model do klasyfikacji wierzchołków (**node classification**) będzie zbudowany z dwóch modułów: \n",
    "- sieci GNN, która na podstawie atrybutów wierzchołków oraz struktury grafu wyznaczy wektory reprezentacji wierzchołków,\n",
    "- głowicy predykcyjnej, która na podstawie wektora reprezentacji wyznaczy klasę wierzchołka."
   ]
  },
  {
   "cell_type": "code",
   "execution_count": null,
   "id": "f8b34c47",
   "metadata": {},
   "outputs": [],
   "source": [
    "import torch\n",
    "\n",
    "torch.manual_seed(42)"
   ]
  },
  {
   "cell_type": "code",
   "execution_count": null,
   "id": "2283c5f0",
   "metadata": {},
   "outputs": [],
   "source": [
    "device = torch.device(\"cuda\" if torch.cuda.is_available() else \"cpu\")\n",
    "\n",
    "device"
   ]
  },
  {
   "cell_type": "code",
   "execution_count": null,
   "id": "5bad3cb6",
   "metadata": {},
   "outputs": [],
   "source": [
    "from torch import nn\n",
    "from torch.nn import functional as F\n",
    "\n",
    "\n",
    "class NodeClassificationModel(nn.Module):\n",
    "    \n",
    "    def __init__(self, gnn: nn.Module, emb_dim: int, num_classes: int):\n",
    "        super().__init__()\n",
    "        \n",
    "        self.gnn = gnn\n",
    "        self.clf_head = nn.Linear(emb_dim, num_classes)\n",
    "        \n",
    "    def forward(self, x: torch.Tensor, edge_index: torch.Tensor):\n",
    "        z = self.gnn(x=x, edge_index=edge_index)\n",
    "        out = self.clf_head(z)\n",
    "        \n",
    "        return F.log_softmax(out, dim=-1)"
   ]
  },
  {
   "cell_type": "markdown",
   "id": "b02c0330",
   "metadata": {},
   "source": [
    "Wykorzystamy zbiór Cora w celu klasyfikacji obszarów badawczych artykułów. W zbiorze został określony podział na zbiór treningowy, walidacyjny i testowy (względem wierzchołków)."
   ]
  },
  {
   "cell_type": "code",
   "execution_count": null,
   "id": "1271ce4c",
   "metadata": {},
   "outputs": [],
   "source": [
    "from torch_geometric.datasets import Planetoid\n",
    "\n",
    "\n",
    "dataset = Planetoid(root=\"/tmp/Cora/\", name=\"Cora\")\n",
    "data = dataset[0]\n",
    "\n",
    "data = data.to(device)\n",
    "\n",
    "data"
   ]
  },
  {
   "cell_type": "markdown",
   "id": "796a652f",
   "metadata": {},
   "source": [
    "Korzystając ze standardowej pętli uczenia w PyTorchu oraz funkcji kosztu w postaci entropii krzyżowej możemy nauczyć model klasyfikacji węzłów:"
   ]
  },
  {
   "cell_type": "code",
   "execution_count": null,
   "id": "7d945db7",
   "metadata": {},
   "outputs": [],
   "source": [
    "import matplotlib.pyplot as plt\n",
    "import seaborn as sns\n",
    "from sklearn.decomposition import PCA\n",
    "from sklearn.metrics import f1_score\n",
    "from umap import UMAP\n",
    "from tqdm.auto import trange\n",
    "\n",
    "\n",
    "def train(model: nn.Module, num_epochs: int):\n",
    "    losses = {\"train\": [], \"val\": [], \"test\": []}\n",
    "    f1s = {\"train\": [], \"val\": [], \"test\": []}\n",
    "    \n",
    "    optimizer = torch.optim.AdamW(\n",
    "        model.parameters(),\n",
    "        lr=1e-3,\n",
    "        weight_decay=5e-4,\n",
    "    )\n",
    "    \n",
    "    model = model.to(device)\n",
    "    \n",
    "    for epoch in trange(num_epochs, desc=\"Epochs\"):\n",
    "        # Train\n",
    "        model.train()\n",
    "        optimizer.zero_grad()\n",
    "        \n",
    "        y_score = model(data.x, data.edge_index)\n",
    "        loss = F.nll_loss(\n",
    "            input=y_score[data.train_mask],\n",
    "            target=data.y[data.train_mask],\n",
    "        )\n",
    "        \n",
    "        loss.backward()\n",
    "        optimizer.step()\n",
    "        \n",
    "        # Log\n",
    "        model.eval()\n",
    "        \n",
    "        with torch.no_grad():\n",
    "            y_score = model(data.x, data.edge_index).cpu()\n",
    "                \n",
    "        y_pred = y_score.argmax(dim=-1)\n",
    "        y_true = data.y.cpu()\n",
    "        \n",
    "        for name, mask in (\n",
    "            (\"train\", data.train_mask.cpu()),\n",
    "            (\"val\", data.val_mask.cpu()),\n",
    "            (\"test\", data.test_mask.cpu()),\n",
    "        ):\n",
    "            losses[name].append(\n",
    "                F.nll_loss(\n",
    "                    input=y_score[mask],\n",
    "                    target=y_true[mask],\n",
    "                )\n",
    "            )\n",
    "            f1s[name].append(\n",
    "                f1_score(\n",
    "                    y_pred=y_pred[mask],\n",
    "                    y_true=y_true[mask],\n",
    "                    average=\"macro\",\n",
    "                )\n",
    "            )\n",
    "        \n",
    "    # Visualize metrics\n",
    "    fig, axs = plt.subplots(nrows=2, ncols=2, figsize=(15, 10))\n",
    "    axs = axs.ravel()\n",
    "    axs[0].plot(range(num_epochs), losses[\"train\"], label=\"Train\")\n",
    "    axs[0].plot(range(num_epochs), losses[\"val\"], label=\"Val\")\n",
    "    axs[0].plot(range(num_epochs), losses[\"test\"], label=\"Test\")\n",
    "    axs[0].set(title=\"Loss\")\n",
    "    axs[0].legend()\n",
    "    \n",
    "    axs[1].plot(range(num_epochs), f1s[\"train\"], label=\"Train\")\n",
    "    axs[1].plot(range(num_epochs), f1s[\"val\"], label=\"Val\")\n",
    "    axs[1].plot(range(num_epochs), f1s[\"test\"], label=\"Test\")\n",
    "    best_val_f1 = max(f1s[\"val\"])\n",
    "    best_idx = f1s[\"val\"].index(best_val_f1)\n",
    "    best_test_f1 = f1s[\"test\"][best_idx]\n",
    "    \n",
    "    axs[1].set(title=f\"F1 (best val: {best_val_f1:.4f}, test: {best_test_f1:.4f})\")\n",
    "    axs[1].legend()\n",
    "    \n",
    "    # Visualize final embeddings\n",
    "    with torch.no_grad():\n",
    "        z = model.gnn(data.x, data.edge_index).cpu()\n",
    "    z2d_pca = PCA(n_components=2).fit_transform(z)\n",
    "    z2d_umap = UMAP(n_components=2).fit_transform(z)\n",
    "\n",
    "    sns.scatterplot(\n",
    "        x=z2d_pca[:, 0],\n",
    "        y=z2d_pca[:, 1],\n",
    "        hue=data.y.cpu(),\n",
    "        palette=\"Set2\",\n",
    "        ax=axs[2],\n",
    "    )\n",
    "    axs[2].set(title=\"PCA\")\n",
    "\n",
    "    sns.scatterplot(\n",
    "        x=z2d_umap[:, 0],\n",
    "        y=z2d_umap[:, 1],\n",
    "        hue=data.y.cpu(),\n",
    "        palette=\"Set2\",\n",
    "        ax=axs[3],\n",
    "    )\n",
    "    axs[3].set(title=\"UMAP\")\n"
   ]
  },
  {
   "cell_type": "markdown",
   "id": "ba386e52",
   "metadata": {},
   "source": [
    "Nauczmy model oparty o architekturę GCN:"
   ]
  },
  {
   "cell_type": "code",
   "execution_count": null,
   "id": "2d64ac12",
   "metadata": {},
   "outputs": [],
   "source": [
    "from torch_geometric.nn import GCN\n",
    "\n",
    "\n",
    "train(\n",
    "    model=NodeClassificationModel(\n",
    "        gnn=GCN(\n",
    "            in_channels=dataset.num_node_features,\n",
    "            hidden_channels=256,\n",
    "            out_channels=128,\n",
    "            num_layers=2,\n",
    "            act=\"relu\",\n",
    "        ),\n",
    "        emb_dim=128,\n",
    "        num_classes=dataset.num_classes,\n",
    "    ),\n",
    "    num_epochs=40,\n",
    ")"
   ]
  },
  {
   "cell_type": "markdown",
   "id": "09f7aa82",
   "metadata": {},
   "source": [
    "## Zadania (10 min)\n",
    "\n",
    "## Z.2. Sprawdzenie innych architektur\n",
    "\n",
    "Dokonaj ewaluacji dwóch wybranych architektur GNNowych w zadaniu klasyfikacji węzłów."
   ]
  },
  {
   "cell_type": "code",
   "execution_count": null,
   "id": "e128fd02",
   "metadata": {},
   "outputs": [],
   "source": [
    "# Wpisz rozwiązania tutaj"
   ]
  },
  {
   "cell_type": "code",
   "execution_count": null,
   "id": "6d4b43f7",
   "metadata": {},
   "outputs": [],
   "source": []
  }
 ],
 "metadata": {
  "celltoolbar": "Create Assignment",
  "kernelspec": {
   "display_name": "Python 3 (ipykernel)",
   "language": "python",
   "name": "python3"
  },
  "language_info": {
   "codemirror_mode": {
    "name": "ipython",
    "version": 3
   },
   "file_extension": ".py",
   "mimetype": "text/x-python",
   "name": "python",
   "nbconvert_exporter": "python",
   "pygments_lexer": "ipython3",
   "version": "3.10.6"
  }
 },
 "nbformat": 4,
 "nbformat_minor": 5
}
